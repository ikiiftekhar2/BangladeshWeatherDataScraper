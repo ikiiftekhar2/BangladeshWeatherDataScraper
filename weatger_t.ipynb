{
 "cells": [
  {
   "cell_type": "code",
   "execution_count": 1,
   "metadata": {},
   "outputs": [],
   "source": [
    "dhk_urlz = ['http://live4.bmd.gov.bd/map/1/#Dhaka', 'http://live4.bmd.gov.bd/map/1/#Tangail',\n",
    "'http://live4.bmd.gov.bd/map/1/#Faridpur', 'http://live4.bmd.gov.bd/map/1/#Madaripur', 'http://live4.bmd.gov.bd/map/1/#Gopalganj',\n",
    "'http://live4.bmd.gov.bd/map/1/#Nikli']\n"
   ]
  },
  {
   "cell_type": "code",
   "execution_count": 2,
   "metadata": {},
   "outputs": [],
   "source": [
    "ctg_urlz = ['http://live4.bmd.gov.bd/map/4/', 'http://live4.bmd.gov.bd/map/4/#Saint%20Martin',\n",
    "'http://live4.bmd.gov.bd/map/4/#Sandwip', 'http://live4.bmd.gov.bd/map/4/#Sitakundu' , 'http://live4.bmd.gov.bd/map/4/#Cumilla' , 'http://live4.bmd.gov.bd/map/4/#Feni' , 'http://live4.bmd.gov.bd/map/4/#Hatiya', 'http://live4.bmd.gov.bd/map/4/#Kutubdia' , 'http://live4.bmd.gov.bd/map/4/#Teknaf', 'http://live4.bmd.gov.bd/map/4/#Dighinala', 'http://live4.bmd.gov.bd/map/4/#Bandarban', 'http://live4.bmd.gov.bd/map/4/#Maijdi%20Court', \"http://live4.bmd.gov.bd/map/4/#Cox's%20Bazar\"]\n"
   ]
  },
  {
   "cell_type": "code",
   "execution_count": 3,
   "metadata": {},
   "outputs": [],
   "source": [
    "syl_url = ['http://live4.bmd.gov.bd/map/7/', 'http://live4.bmd.gov.bd/map/7/#Srimangal']\n",
    "mymensingh_url = ['http://live4.bmd.gov.bd/map/18/', 'http://live4.bmd.gov.bd/map/18/#Netrokona']\n"
   ]
  },
  {
   "cell_type": "code",
   "execution_count": 4,
   "metadata": {},
   "outputs": [],
   "source": [
    "raj_url = ['http://live4.bmd.gov.bd/map/77/', 'http://live4.bmd.gov.bd/map/77/#Ishurdi', 'http://live4.bmd.gov.bd/map/77/#Bogura', 'http://live4.bmd.gov.bd/map/77/#Badalgachhi',\n",
    "'http://live4.bmd.gov.bd/map/77/#Tarash']"
   ]
  },
  {
   "cell_type": "code",
   "execution_count": 5,
   "metadata": {},
   "outputs": [],
   "source": [
    "rang_url = ['http://live4.bmd.gov.bd/map/82/', 'http://live4.bmd.gov.bd/map/82/#Dinajpur', 'http://live4.bmd.gov.bd/map/82/#Sayedpur' , 'http://live4.bmd.gov.bd/map/82/#Rajarhat',\n",
    "'http://live4.bmd.gov.bd/map/82/#Dimla', 'http://live4.bmd.gov.bd/map/82/#Tetulia']"
   ]
  },
  {
   "cell_type": "code",
   "execution_count": 6,
   "metadata": {},
   "outputs": [],
   "source": [
    "khul_url = ['http://live4.bmd.gov.bd/map/88/' , 'http://live4.bmd.gov.bd/map/88/#Mongla', 'http://live4.bmd.gov.bd/map/88/#Satkhira',\n",
    "'http://live4.bmd.gov.bd/map/88/#Jashore', 'http://live4.bmd.gov.bd/map/88/#Chuadanga', 'http://live4.bmd.gov.bd/map/88/#Kumarkhali']\n",
    "bar_url = ['http://live4.bmd.gov.bd/map/94/', 'http://live4.bmd.gov.bd/map/94/#Patuakhali', 'http://live4.bmd.gov.bd/map/94/#Khepupara', 'http://live4.bmd.gov.bd/map/94/#Bhola']"
   ]
  },
  {
   "cell_type": "code",
   "execution_count": 7,
   "metadata": {},
   "outputs": [
    {
     "data": {
      "text/plain": [
       "38"
      ]
     },
     "execution_count": 7,
     "metadata": {},
     "output_type": "execute_result"
    }
   ],
   "source": [
    "len(dhk_urlz) +len(ctg_urlz) + len(syl_url) + len(raj_url) + len(rang_url) + len(khul_url)"
   ]
  },
  {
   "cell_type": "code",
   "execution_count": 8,
   "metadata": {},
   "outputs": [],
   "source": [
    "import requests"
   ]
  },
  {
   "cell_type": "code",
   "execution_count": 9,
   "metadata": {},
   "outputs": [],
   "source": [
    "import random\n",
    "rand_url = random.choice(ctg_urlz)"
   ]
  },
  {
   "cell_type": "code",
   "execution_count": 10,
   "metadata": {},
   "outputs": [
    {
     "data": {
      "text/plain": [
       "True"
      ]
     },
     "execution_count": 10,
     "metadata": {},
     "output_type": "execute_result"
    }
   ],
   "source": [
    "rand_url in ctg_urlz"
   ]
  },
  {
   "cell_type": "code",
   "execution_count": 11,
   "metadata": {},
   "outputs": [
    {
     "data": {
      "text/plain": [
       "['http://live4.bmd.gov.bd/map/4/', 'Maijdi%20Court']"
      ]
     },
     "execution_count": 11,
     "metadata": {},
     "output_type": "execute_result"
    }
   ],
   "source": [
    "station = rand_url.split('#')\n",
    "station"
   ]
  },
  {
   "cell_type": "code",
   "execution_count": 12,
   "metadata": {},
   "outputs": [],
   "source": [
    "from selenium import webdriver\n",
    "from selenium.webdriver.common.keys import Keys\n",
    "from selenium.webdriver.chrome.options import Options\n",
    "\n",
    "options = Options()\n",
    "options.headless = True"
   ]
  },
  {
   "cell_type": "code",
   "execution_count": 13,
   "metadata": {},
   "outputs": [
    {
     "name": "stderr",
     "output_type": "stream",
     "text": [
      "C:\\Users\\iftek\\AppData\\Local\\Temp/ipykernel_4824/3219401121.py:1: DeprecationWarning: executable_path has been deprecated, please pass in a Service object\n",
      "  driver = webdriver.Chrome('D:\\driver\\chromedriver')\n",
      "C:\\Users\\iftek\\AppData\\Local\\Temp/ipykernel_4824/3219401121.py:3: DeprecationWarning: find_elements_by_class_name is deprecated. Please use find_elements(by=By.CLASS_NAME, value=name) instead\n",
      "  curr_data = driver.find_elements_by_class_name(\"forecastbox\")\n"
     ]
    }
   ],
   "source": [
    "driver = webdriver.Chrome('D:\\driver\\chromedriver')\n",
    "driver.get(rand_url)\n",
    "curr_data = driver.find_elements_by_class_name(\"forecastbox\")"
   ]
  },
  {
   "cell_type": "code",
   "execution_count": 14,
   "metadata": {},
   "outputs": [
    {
     "data": {
      "text/plain": [
       "[<selenium.webdriver.remote.webelement.WebElement (session=\"054b3ed56198b9043c5af1d5e21633bf\", element=\"4f93e639-fddf-4675-aa4a-405be62b0bea\")>,\n",
       " <selenium.webdriver.remote.webelement.WebElement (session=\"054b3ed56198b9043c5af1d5e21633bf\", element=\"047be055-8a47-47b1-bf75-4b2796dc72ad\")>,\n",
       " <selenium.webdriver.remote.webelement.WebElement (session=\"054b3ed56198b9043c5af1d5e21633bf\", element=\"6112ee34-8cae-4262-9f90-906737a84baa\")>,\n",
       " <selenium.webdriver.remote.webelement.WebElement (session=\"054b3ed56198b9043c5af1d5e21633bf\", element=\"d9ca374e-721f-4de6-a026-7ed5db79751e\")>,\n",
       " <selenium.webdriver.remote.webelement.WebElement (session=\"054b3ed56198b9043c5af1d5e21633bf\", element=\"abb4ea73-5da7-4c4a-a53d-426b4a8668e3\")>,\n",
       " <selenium.webdriver.remote.webelement.WebElement (session=\"054b3ed56198b9043c5af1d5e21633bf\", element=\"f4ae8ab6-0b0f-401c-85ad-9610c7913ad7\")>,\n",
       " <selenium.webdriver.remote.webelement.WebElement (session=\"054b3ed56198b9043c5af1d5e21633bf\", element=\"c6aa43a0-2313-48cb-af4e-31a131e5d724\")>,\n",
       " <selenium.webdriver.remote.webelement.WebElement (session=\"054b3ed56198b9043c5af1d5e21633bf\", element=\"b2f4c76f-50c4-44a2-b0d2-8a1e7ec6b86a\")>,\n",
       " <selenium.webdriver.remote.webelement.WebElement (session=\"054b3ed56198b9043c5af1d5e21633bf\", element=\"77868e11-7ed7-4a93-b0f6-7e0a919921f8\")>,\n",
       " <selenium.webdriver.remote.webelement.WebElement (session=\"054b3ed56198b9043c5af1d5e21633bf\", element=\"e97c4654-709a-4249-90a1-5546b72a40df\")>,\n",
       " <selenium.webdriver.remote.webelement.WebElement (session=\"054b3ed56198b9043c5af1d5e21633bf\", element=\"481ca6da-a8be-4397-89b6-d4cd4692c3d4\")>,\n",
       " <selenium.webdriver.remote.webelement.WebElement (session=\"054b3ed56198b9043c5af1d5e21633bf\", element=\"4196994d-1f7e-48ed-8844-50228bdde01f\")>,\n",
       " <selenium.webdriver.remote.webelement.WebElement (session=\"054b3ed56198b9043c5af1d5e21633bf\", element=\"e89832d8-c22d-4bca-ac7e-1c17b5d2a48a\")>,\n",
       " <selenium.webdriver.remote.webelement.WebElement (session=\"054b3ed56198b9043c5af1d5e21633bf\", element=\"19817c3b-4b1d-4c0d-8947-2a503014b0e7\")>,\n",
       " <selenium.webdriver.remote.webelement.WebElement (session=\"054b3ed56198b9043c5af1d5e21633bf\", element=\"ee6b4727-eef2-49f9-acad-8222ac97c7ad\")>]"
      ]
     },
     "execution_count": 14,
     "metadata": {},
     "output_type": "execute_result"
    }
   ],
   "source": [
    "curr_data"
   ]
  },
  {
   "cell_type": "code",
   "execution_count": 15,
   "metadata": {},
   "outputs": [],
   "source": [
    "raw_dat = []\n",
    "for v in curr_data:\n",
    "    raw_dat.append(v.text)"
   ]
  },
  {
   "cell_type": "code",
   "execution_count": 16,
   "metadata": {},
   "outputs": [],
   "source": [
    "t_text = ''\n",
    "for z in raw_dat:\n",
    "    if len(z) > 0:\n",
    "        t_text = z"
   ]
  },
  {
   "cell_type": "code",
   "execution_count": 17,
   "metadata": {},
   "outputs": [],
   "source": [
    "more_t =  t_text.split('\\n') "
   ]
  },
  {
   "cell_type": "code",
   "execution_count": 18,
   "metadata": {},
   "outputs": [
    {
     "name": "stdout",
     "output_type": "stream",
     "text": [
      "MAX 33.0 oC | MIN 25.0 oC\n",
      "Thunderstorm\n",
      "Sunrise : 5:14 AM\n",
      "Sunset : 6:24 PM\n",
      "Rainfall : 24.0 mm;\n",
      "Wind : 22.0 kph\n",
      "Sunrise : 5:14 AM\n",
      "Sunset : 6:24 PM\n",
      "Morning Humidity : 78.0%\n",
      "Evening Humidity : 79.0%\n",
      "Surface Pressure : 1007.5 hPa\n"
     ]
    }
   ],
   "source": [
    "print(t_text)"
   ]
  },
  {
   "cell_type": "code",
   "execution_count": 19,
   "metadata": {},
   "outputs": [],
   "source": [
    "import re"
   ]
  },
  {
   "cell_type": "code",
   "execution_count": 22,
   "metadata": {},
   "outputs": [
    {
     "name": "stdout",
     "output_type": "stream",
     "text": [
      "Evening Humidity : 79.0%\n"
     ]
    },
    {
     "data": {
      "text/plain": [
       "['33.0',\n",
       " '25.0',\n",
       " '5',\n",
       " '14',\n",
       " '6',\n",
       " '24',\n",
       " '24.0',\n",
       " '22.0',\n",
       " '5',\n",
       " '14',\n",
       " '6',\n",
       " '24',\n",
       " '78.0',\n",
       " '79.0',\n",
       " '1007.5']"
      ]
     },
     "execution_count": 22,
     "metadata": {},
     "output_type": "execute_result"
    }
   ],
   "source": [
    "print(more_t[9])\n",
    "re.findall(\"[-+]?(?:\\d*\\.\\d+|\\d+)\", t_text)"
   ]
  },
  {
   "cell_type": "code",
   "execution_count": 21,
   "metadata": {},
   "outputs": [
    {
     "data": {
      "text/plain": [
       "'12/05/2022'"
      ]
     },
     "execution_count": 21,
     "metadata": {},
     "output_type": "execute_result"
    }
   ],
   "source": [
    "\n",
    "from datetime import datetime\n",
    "now = datetime.now()\n",
    "dt_string = now.strftime(\"%d/%m/%Y\")\n",
    "dt_string"
   ]
  },
  {
   "cell_type": "code",
   "execution_count": null,
   "metadata": {},
   "outputs": [],
   "source": []
  },
  {
   "cell_type": "code",
   "execution_count": null,
   "metadata": {},
   "outputs": [],
   "source": []
  }
 ],
 "metadata": {
  "interpreter": {
   "hash": "056c77a0761b2c681bdeeb74f8002184a70a5042b2e7e5917bcbdab9f725c4b6"
  },
  "kernelspec": {
   "display_name": "Python 3.9.7 ('base')",
   "language": "python",
   "name": "python3"
  },
  "language_info": {
   "codemirror_mode": {
    "name": "ipython",
    "version": 3
   },
   "file_extension": ".py",
   "mimetype": "text/x-python",
   "name": "python",
   "nbconvert_exporter": "python",
   "pygments_lexer": "ipython3",
   "version": "3.9.7"
  },
  "orig_nbformat": 4
 },
 "nbformat": 4,
 "nbformat_minor": 2
}
